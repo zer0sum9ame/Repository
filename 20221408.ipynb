{
 "cells": [
  {
   "cell_type": "markdown",
   "id": "4198a321",
   "metadata": {},
   "source": [
    "### 1. LeetCode 225. Implement Stack using Queues"
   ]
  },
  {
   "cell_type": "code",
   "execution_count": null,
   "id": "1ccfc133",
   "metadata": {},
   "outputs": [],
   "source": [
    "from collections import deque\n",
    "class MyStack:\n",
    "    def __init__(self):\n",
    "        # Initialize an empty deque to serve as our queue.\n",
    "        self.queue = deque()\n",
    "\n",
    "    def push(self, x: int) -> None:\n",
    "        \"\"\"\n",
    "        Push element x onto stack.\n",
    "        \n",
    "        The strategy:\n",
    "        1. Add x to the back of the queue.\n",
    "        2. Then, rotate the queue by taking elements from the front\n",
    "           and appending them to the back. This is done (len(queue)-1) times.\n",
    "        After these rotations, x moves to the front, making it the top of the stack.\n",
    "        \"\"\"\n",
    "        self.queue.append(x)\n",
    "        # Rotate the queue to put the new element at the front.\n",
    "        for _ in range(len(self.queue) - 1):\n",
    "            self.queue.append(self.queue.popleft())\n",
    "\n",
    "    def pop(self) -> int:\n",
    "        \"\"\"\n",
    "        Removes the element on top of the stack and returns that element.\n",
    "        \n",
    "        As we always ensure that the most recently pushed element is at the front,\n",
    "        we simply remove and return the front of the queue.\n",
    "        \"\"\"\n",
    "        return self.queue.popleft()\n",
    "\n",
    "    def top(self) -> int:\n",
    "        \"\"\"\n",
    "        Get the top element.\n",
    "        \n",
    "        Peek at the front of the queue, as it represents the top of the stack.\n",
    "        \"\"\"\n",
    "        return self.queue[0]\n",
    "\n",
    "    def empty(self) -> bool:\n",
    "        \"\"\"\n",
    "        Returns whether the stack is empty.\n",
    "        \"\"\"\n",
    "        return not self.queue\n",
    "\n",
    "# Example of usage:\n",
    "if __name__ == \"__main__\":\n",
    "    stack = MyStack()\n",
    "    stack.push(1)\n",
    "    stack.push(2)\n",
    "    # The stack should now be [2, 1] with 2 at the top.\n",
    "    print(\"Top element:\", stack.top())  # Expected output: 2\n",
    "    print(\"Popped element:\", stack.pop())  # Expected output: 2\n",
    "    print(\"Is stack empty?\", stack.empty())  # Expected output: False\n"
   ]
  },
  {
   "cell_type": "markdown",
   "id": "02f52553",
   "metadata": {},
   "source": [
    "### 2. LeetCode 232. Implement Queue using stacks"
   ]
  },
  {
   "cell_type": "code",
   "execution_count": null,
   "id": "b46b2e1f",
   "metadata": {},
   "outputs": [],
   "source": [
    "class MyQueue:\n",
    "    def __init__(self):\n",
    "        # 새로운 원소를 넣을 때 사용하는 스택\n",
    "        self.stack_in = []\n",
    "        # pop이나 peek 연산을 수행할 때 원소를 꺼내는 데 사용하는 스택\n",
    "        self.stack_out = []\n",
    "    \n",
    "    def push(self, x: int) -> None:\n",
    "        \"\"\"\n",
    "        큐의 뒤에 새로운 원소 x를 추가합니다.\n",
    "        간단하게 stack_in에 원소를 추가합니다.\n",
    "        \"\"\"\n",
    "        self.stack_in.append(x)\n",
    "    \n",
    "    def pop(self) -> int:\n",
    "        \"\"\"\n",
    "        큐에서 가장 앞쪽의 원소(먼저 들어온 원소)를 제거하고 반환합니다.\n",
    "        \n",
    "        만약 stack_out이 비어있다면, stack_in에서 모든 원소를 pop하여 stack_out에 push합니다.\n",
    "        이렇게 함으로써 stack_in의 가장 오래된 원소가 stack_out의 top에 오게 됩니다.\n",
    "        \"\"\"\n",
    "        if not self.stack_out:\n",
    "            # stack_out이 빈 경우 stack_in의 모든 원소들을 옮깁니다.\n",
    "            while self.stack_in:\n",
    "                self.stack_out.append(self.stack_in.pop())\n",
    "        return self.stack_out.pop()\n",
    "    \n",
    "    def peek(self) -> int:\n",
    "        \"\"\"\n",
    "        큐에서 가장 앞쪽에 있는 원소를 반환합니다.\n",
    "        pop 연산과 유사하게 stack_out이 비어있으면 stack_in에서 옮깁니다.\n",
    "        단, 원소를 제거하지 않고 확인만 합니다.\n",
    "        \"\"\"\n",
    "        if not self.stack_out:\n",
    "            while self.stack_in:\n",
    "                self.stack_out.append(self.stack_in.pop())\n",
    "        return self.stack_out[-1]\n",
    "    \n",
    "    def empty(self) -> bool:\n",
    "        \"\"\"\n",
    "        큐가 비어있는지 여부를 반환합니다.\n",
    "        두 개의 스택 모두 비어있을 때 비어있다고 판단합니다.\n",
    "        \"\"\"\n",
    "        return not self.stack_in and not self.stack_out\n",
    "\n",
    "# 사용 예시:\n",
    "if __name__ == \"__main__\":\n",
    "    q = MyQueue()\n",
    "    q.push(1)\n",
    "    q.push(2)\n",
    "    print(\"Peek:\", q.peek())  # 예상 출력: 1 (먼저 들어온 원소)\n",
    "    print(\"Pop:\", q.pop())    # 예상 출력: 1\n",
    "    print(\"Empty:\", q.empty())  # 예상 출력: False (아직 원소가 남아 있음)\n"
   ]
  },
  {
   "cell_type": "markdown",
   "id": "53fb1685",
   "metadata": {},
   "source": [
    "### 3. 교재 큐 연습문제 (3.1부터 3.8까지로 표기하였습니다)"
   ]
  },
  {
   "cell_type": "markdown",
   "id": "a2505eb9",
   "metadata": {},
   "source": [
    "#### 3.1"
   ]
  },
  {
   "cell_type": "code",
   "execution_count": null,
   "id": "61759cb2",
   "metadata": {},
   "outputs": [],
   "source": [
    "class ListQueue:\n",
    "    def __init__(self):\n",
    "        self.queue = []\n",
    "\n",
    "    def enqueue(self, x):\n",
    "        self.queue.insert(0, x)\n",
    "\n",
    "    def dequeue(self):\n",
    "        return self.queue.pop()\n",
    "\n",
    "    def front(self):\n",
    "        return self.queue[-1] \n",
    "        \n",
    "    def isEmpty(self) -> bool:\n",
    "        return len(self.queue) == 0 \n",
    "\n",
    "    def dequeueAll(self):\n",
    "        self.queue.clear() "
   ]
  },
  {
   "cell_type": "markdown",
   "id": "9ad1d9f6",
   "metadata": {},
   "source": [
    "#### 3.2"
   ]
  },
  {
   "cell_type": "code",
   "execution_count": null,
   "id": "cf43c164",
   "metadata": {},
   "outputs": [],
   "source": [
    "def is_in_set(string: str) -> bool: \n",
    "    q = ListQueue()\n",
    "    index = 0  \n",
    "\n",
    "    while string[index] != '$':\n",
    "        q.enqueue(string[index])\n",
    "        index += 1\n",
    "        \n",
    "    index += 1\n",
    "\n",
    "    while index < len(string):\n",
    "        if q.dequeue() != string[index]:  \n",
    "            return False  \n",
    "        else:\n",
    "            index += 1  \n",
    "            \n",
    "    return True"
   ]
  },
  {
   "cell_type": "markdown",
   "id": "836dc813",
   "metadata": {},
   "source": [
    "#### 3.3"
   ]
  },
  {
   "cell_type": "code",
   "execution_count": null,
   "id": "1b9ae234",
   "metadata": {},
   "outputs": [],
   "source": [
    "def copy_linked_queue(source_queue):\n",
    "    temp_queue = LinkedQueue() \n",
    "    destination_queue = LinkedQueue()\n",
    "\n",
    "    while not source_queue.is_empty():\n",
    "        value = source_queue.dequeue()\n",
    "        temp_queue.enqueue(value)\n",
    "        destination_queue.enqueue(value)\n",
    "\n",
    "    while not temp_queue.is_empty():\n",
    "        source_queue.enqueue(temp_queue.dequeue())\n",
    "\n",
    "    return destination_queue"
   ]
  },
  {
   "cell_type": "markdown",
   "id": "597d9a03",
   "metadata": {},
   "source": [
    "#### 3.4"
   ]
  },
  {
   "cell_type": "code",
   "execution_count": null,
   "id": "61e5d336",
   "metadata": {},
   "outputs": [],
   "source": [
    "from queue import Queue\n",
    "\n",
    "class StackUsingQueues:\n",
    "    def __init__(self):\n",
    "        self.q1 = Queue()\n",
    "        self.q2 = Queue()\n",
    "\n",
    "    def push(self, x):\n",
    "        self.q2.put(x) \n",
    "\n",
    "        while not self.q1.empty():\n",
    "            self.q2.put(self.q1.get())\n",
    "\n",
    "        self.q1, self.q2 = self.q2, self.q1\n",
    "\n",
    "    def pop(self):\n",
    "        if self.q1.empty():\n",
    "            raise IndexError(\"pop from an empty stack\")\n",
    "        return self.q1.get()\n",
    "\n",
    "    def is_empty(self):\n",
    "        return self.q1.empty()"
   ]
  },
  {
   "cell_type": "markdown",
   "id": "9143caee",
   "metadata": {},
   "source": [
    "#### 3.5"
   ]
  },
  {
   "cell_type": "code",
   "execution_count": null,
   "id": "5280dfa8",
   "metadata": {},
   "outputs": [],
   "source": [
    "class QueueUsingStacks:\n",
    "    def __init__(self):\n",
    "        self.in_stack = []\n",
    "        self.out_stack = []\n",
    "\n",
    "    def enqueue(self, x):\n",
    "        self.in_stack.append(x)\n",
    "\n",
    "    def dequeue(self):\n",
    "        if not self.out_stack:\n",
    "            while self.in_stack:\n",
    "                self.out_stack.append(self.in_stack.pop())\n",
    "        if not self.out_stack:\n",
    "            raise IndexError(\"dequeue from an empty queue\")\n",
    "        return self.out_stack.pop() \n",
    "\n",
    "    def is_empty(self):\n",
    "        return not self.in_stack and not self.out_stack"
   ]
  },
  {
   "cell_type": "markdown",
   "id": "c20647f1",
   "metadata": {},
   "source": [
    "#### 3.6"
   ]
  },
  {
   "cell_type": "code",
   "execution_count": null,
   "id": "0ab16fe1",
   "metadata": {},
   "outputs": [],
   "source": [
    "from DS.list.circularLinkedList import CircularLinkedList\n",
    "\n",
    "class LinkedQueue:\n",
    "\tdef __init__(self):\n",
    "\t\tself.__queue = CircularLinkedList()\n",
    "\n",
    "\tdef enqueue(self, x):\n",
    "\t\tself.__queue.append(x)\n",
    "\n",
    "\tdef dequeue(self):\n",
    "\t\treturn self.__queue.pop(0)\t\n",
    "\n",
    "\tdef front(self):\n",
    "\t\treturn self.__queue.get(0)\n",
    "\n",
    "\tdef isEmpty(self) -> bool:\n",
    "\t\treturn self.__queue.isEmpty()\n",
    " \n",
    "\tdef dequeueAll(self):\n",
    "\t\tself.__queue.clear()\n",
    "        \n",
    "\tdef printQueue(self):\n",
    "\t\tprint(\"Queue from front:\", end = ' ')\n",
    "\t\tfor i in range(self.__queue.size()):\n",
    "\t\t\tprint(self.__queue.get(i), end = ' ')\n",
    "\t\tprint()"
   ]
  },
  {
   "cell_type": "markdown",
   "id": "03311fa0",
   "metadata": {},
   "source": [
    "#### 3.7\n",
    "\n",
    "enqueue()는 self.__queue.append(x)를 호출하였습니다. 원형 연결 리스트는 tail 포인터를 유지하기 때문에, 꼬리 뒤에 원소를 추가하는 append 연산은 O(1)입니다.\n",
    "dequeue()는 self.__queue.pop(0)을 호출하여 큐의 head를 제거하였씁니다. 원형 연결 리스트는 head를 제거하는 연산을 O(1)로 처리하므로, 큐의 사이즈가 n일 때 enqueue()와 dequeue()의 수행 시간은 모두 O(1)입니다.\n"
   ]
  },
  {
   "cell_type": "markdown",
   "id": "3cee2952",
   "metadata": {},
   "source": [
    "#### 3.8"
   ]
  },
  {
   "cell_type": "code",
   "execution_count": null,
   "id": "0af5b288",
   "metadata": {},
   "outputs": [],
   "source": [
    "class Deque:\n",
    "    def __init__(self):\n",
    "        self.queue = []\n",
    "\n",
    "    def enqueue_back(self, x):\n",
    "        self.queue.append(x)\n",
    "\n",
    "    def enqueue_front(self, x):\n",
    "        self.queue.insert(0, x)\n",
    "\n",
    "    def dequeue_back(self):\n",
    "        if self.isEmpty():\n",
    "            return None\n",
    "        return self.queue.pop()\n",
    "\n",
    "    def dequeue_front(self):\n",
    "        if self.isEmpty():\n",
    "            return None\n",
    "        return self.queue.pop(0) \n",
    "        \n",
    "    def front(self):\n",
    "        if self.isEmpty():\n",
    "            return None\n",
    "        return self.queue[0]\n",
    "\n",
    "    def back(self):\n",
    "        if self.isEmpty():\n",
    "            return None\n",
    "        return self.queue[-1] \n",
    "\n",
    "    def isEmpty(self) -> bool:\n",
    "        return len(self.queue) == 0 \n",
    "\n",
    "    def clear(self):\n",
    "        self.queue.clear() \n",
    "\n",
    "    def printDeque(self):\n",
    "        print(\"Deque from front to back:\", end=' ')\n",
    "        for item in self.queue:\n",
    "            print(item, end=' ')\n",
    "        print()"
   ]
  }
 ],
 "metadata": {
  "language_info": {
   "name": "python"
  }
 },
 "nbformat": 4,
 "nbformat_minor": 5
}
